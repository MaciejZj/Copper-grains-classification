{
 "cells": [
  {
   "cell_type": "markdown",
   "metadata": {},
   "source": [
    "# Copper grains classification using active thermography and neural networks\n",
    "\n",
    "This project consists in submitting an approach of classifying copper grains on\n",
    "the basis of active thermography and neural networks.\n",
    "Whereas the implementation of the method represents a prototype and yields a\n",
    "field for enhancement, the aim of the work is to examine presented idea and show\n",
    "it's suitability for further development.\n",
    "\n",
    "## Table of contents\n",
    "\n",
    "* [Detecting low emissivity spots on copper grains images](blob_detection_compare_demo.ipynb)\n",
    "* [Extracting features from thermal images of copper grains](blob_classification_cross_val_demo.ipynb)\n",
    "* [Copper grains classification based on thermal images](blob_classification_demo.ipynb)"
   ]
  }
 ],
 "metadata": {
  "kernelspec": {
   "display_name": "Python 3",
   "language": "python",
   "name": "python3"
  },
  "language_info": {
   "codemirror_mode": {
    "name": "ipython",
    "version": 3
   },
   "file_extension": ".py",
   "mimetype": "text/x-python",
   "name": "python",
   "nbconvert_exporter": "python",
   "pygments_lexer": "ipython3",
   "version": "3.7.5"
  }
 },
 "nbformat": 4,
 "nbformat_minor": 4
}
